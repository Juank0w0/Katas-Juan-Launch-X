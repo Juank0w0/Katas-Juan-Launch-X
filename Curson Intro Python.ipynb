{
 "cells": [
  {
   "cell_type": "markdown",
   "metadata": {},
   "source": [
    "# Manual De La Nave\n"
   ]
  },
  {
   "cell_type": "code",
   "execution_count": null,
   "metadata": {},
   "outputs": [],
   "source": [
    "pip install ipywidgets"
   ]
  },
  {
   "cell_type": "code",
   "execution_count": null,
   "metadata": {},
   "outputs": [],
   "source": [
    "import ipywidgets as widgets\n",
    "\n",
    "ignition = widgets.ToggleButton(\n",
    "    value=False,\n",
    "    description='Iniciar Launch',\n",
    "    button_style='success',\n",
    "    tooltip='Engage your Launch',\n",
    "    icon='rocket'\n",
    ")\n",
    "\n",
    "output = widgets.Output()\n",
    "\n",
    "display(ignition, output)\n",
    "\n",
    "def on_value_change(change):\n",
    "    with output:\n",
    "        if change['new'] == True:\n",
    "            print(\"Nave Iniciada!\")\n",
    "        else:   \n",
    "            print(\"Nave Detenida\")\n",
    "\n",
    "ignition.observe(on_value_change, names='value')\n"
   ]
  },
  {
   "cell_type": "code",
   "execution_count": null,
   "metadata": {},
   "outputs": [],
   "source": [
    " !pip install matplotlib\n",
    " !pip install numpy"
   ]
  },
  {
   "cell_type": "markdown",
   "metadata": {},
   "source": [
    "## Niveles De Oxígeno\n",
    "Muestra dies minutos de niveles de oxígeno en tu nave."
   ]
  },
  {
   "cell_type": "code",
   "execution_count": null,
   "metadata": {},
   "outputs": [],
   "source": [
    "import numpy as np\n",
    "import matplotlib.pyplot as plt\n",
    "data = np.random.default_rng(12345)\n",
    "oxy_nums = data.integers(low=0, high=10, size=10)\n",
    "\n",
    "plt.bar(range(len(oxy_nums)), oxy_nums)\n",
    "plt.show()"
   ]
  },
  {
   "cell_type": "markdown",
   "metadata": {},
   "source": [
    "## Velocidad De La Nave\n",
    "Muestra los segundos necesarios para pasar de a 11200 metros por segundo, dada la aceleracion en metros por segundos."
   ]
  },
  {
   "cell_type": "code",
   "execution_count": null,
   "metadata": {},
   "outputs": [],
   "source": [
    "endVelocity = 11200\n",
    "starVelocity = 0\n",
    "acceleration = 9.8\n",
    "\n",
    "time = (endVelocity - starVelocity) / acceleration\n",
    "print(\"Tiempo para alcanzar la velocidad deseada = \",  time)"
   ]
  },
  {
   "cell_type": "markdown",
   "metadata": {},
   "source": [
    "# Primer Programa\n"
   ]
  },
  {
   "cell_type": "code",
   "execution_count": null,
   "metadata": {},
   "outputs": [],
   "source": [
    "from datetime import date\n",
    "date.today()\n",
    "\n",
    "\n",
    "print(\"La fecha de hoy es: \" + str(date.today()))"
   ]
  },
  {
   "cell_type": "markdown",
   "metadata": {},
   "source": [
    "# Convertidor De Unidades"
   ]
  },
  {
   "cell_type": "code",
   "execution_count": null,
   "metadata": {},
   "outputs": [],
   "source": [
    "parsec = 11\n",
    "ligthyears = 3.26156 * parsec\n",
    "\n",
    "print(str(parsec) + \"parsec, is \" + str (ligthyears) + \" lightyears\" )\n",
    "\n",
    "\n"
   ]
  },
  {
   "cell_type": "markdown",
   "metadata": {},
   "source": [
    "## Advertencia De Asteroide"
   ]
  },
  {
   "cell_type": "code",
   "execution_count": null,
   "metadata": {},
   "outputs": [],
   "source": [
    "## Problema 1\n",
    "\n",
    "asteroide = 15\n",
    "if asteroide > 25:\n",
    "    print(\"ALERTA ASTEROIDE SE DIRIGE EN PUEBLO\")\n",
    "else:\n",
    "    print(\"Hoy es un dia tranquilo :)\")"
   ]
  },
  {
   "cell_type": "code",
   "execution_count": null,
   "metadata": {},
   "outputs": [],
   "source": [
    "## Problema 2\n",
    "\n",
    "asteroide = 21\n",
    "if asteroide > 20:\n",
    "    print(\"Hay un destello en el cielo\")\n",
    "elif asteroide == 20:\n",
    "    print(\"Hay un destello en el cielo\")\n",
    "else: \n",
    "    print(\"Nada que ver aquí\")"
   ]
  },
  {
   "cell_type": "code",
   "execution_count": null,
   "metadata": {},
   "outputs": [],
   "source": [
    "## Problema 3\n",
    "v_asteroide = 40\n",
    "tamaño_asteroide = 40\n",
    "if v_asteroide > 25 and tamaño_asteroide > 25:\n",
    "    print('¡Alerta, Un asteroide muy peligroso viene hacia la Tierra!')\n",
    "elif v_asteroide >= 20:\n",
    "    print('¡Hay una luz mágica en el cielo!')\n",
    "elif tamaño_asteroide < 25:\n",
    "    print('Tranki')\n",
    "else:\n",
    "    print('Tranki')"
   ]
  },
  {
   "cell_type": "markdown",
   "metadata": {},
   "source": [
    "## Transformar Cadenas\n",
    "Ejercicio 1"
   ]
  },
  {
   "cell_type": "code",
   "execution_count": null,
   "metadata": {},
   "outputs": [],
   "source": [
    "text = \"\"\"Interesting facts about the Moon. The Moon is Earth's only satellite. There are several interesting facts about the Moon and how it affects life here on Earth. \n",
    "On average, the Moon moves 4cm away from the Earth every year. This yearly drift is not significant enough to cause immediate effects on Earth. The highest daylight temperature of the Moon is 127 C.\"\"\"\n",
    "# Separar\n",
    "partes_texto = text.split(\". \")\n",
    "# Reservas\n",
    "palabras_claves = [\"average\", \"temperature\", \"distance\"]\n",
    "# For para Recorrer Cadena\n",
    "for sentence in partes_texto:\n",
    "    for palabras_clave in palabras_claves:\n",
    "        if palabras_clave in sentence:\n",
    "            print(sentence)\n",
    "            break\n",
    "\n"
   ]
  },
  {
   "cell_type": "code",
   "execution_count": null,
   "metadata": {},
   "outputs": [],
   "source": [
    "# Ciclos para Cambia de C a Celcius\n",
    "for sentence in partes_texto:\n",
    "    for palabras_clave in palabras_claves:\n",
    "        if palabras_clave in sentence:\n",
    "            print(sentence.replace(' C', ' Celsius'))\n",
    "            break"
   ]
  },
  {
   "cell_type": "markdown",
   "metadata": {},
   "source": [
    "# Transformar Cadenas\n",
    " Ejercicio 2"
   ]
  },
  {
   "cell_type": "code",
   "execution_count": null,
   "metadata": {},
   "outputs": [],
   "source": [
    "satelite = \"luna\"\n",
    "gravedad = 0.00988\n",
    "planeta = \"tierra\"\n",
    "\n",
    "# Titulo\n",
    "titulo = f'datos de gravedad sobre {planeta}'\n",
    "# Plantilla\n",
    "datos = f\"\"\"{'-'*80}\n",
    "Nombre del satelite: {satelite}\n",
    "Gravedad en {planeta}: {gravedad * 1000} m/s2\n",
    "\"\"\"\n",
    "#Union De Cadenas\n",
    "plantilla = f\"\"\"{titulo.title()}\n",
    "{datos}\n",
    "\"\"\"\n",
    "print(datos)"
   ]
  },
  {
   "cell_type": "code",
   "execution_count": null,
   "metadata": {},
   "outputs": [],
   "source": [
    "# Nuevos datos\n",
    "satelite = \"luna\"\n",
    "gravedad = 0.00988\n",
    "planeta = \"tierra\"\n",
    "nueva_plantilla = \"\"\"\n",
    "Datos de gravedad sobre: {planeta}\n",
    "\n",
    "Nombre del satelite: {satelite}\n",
    "Gravedad en {planeta}: {gravedad} m/s2\n",
    "\"\"\"\n",
    "print(nueva_plantilla.format(planeta=planeta, satelite=satelite, gravedad=gravedad*1000))"
   ]
  },
  {
   "cell_type": "markdown",
   "metadata": {},
   "source": [
    "## Operadores Aritmeticos \n",
    "Distancia Planetas\n",
    "1er ejercicio"
   ]
  },
  {
   "cell_type": "code",
   "execution_count": null,
   "metadata": {},
   "outputs": [],
   "source": [
    "tierra = 149597870\n",
    "jupyter = 778547200\n",
    "# Calculo\n",
    "distancia_km = tierra - jupyter\n",
    "print(\"La distancia en kilometros: \" + str(distancia_km))\n",
    "distance = distancia_km * 0.621\n",
    "print(\"La distancia en millas \" + str(distance))"
   ]
  },
  {
   "cell_type": "markdown",
   "metadata": {},
   "source": [
    "Distancia entre el sol y planetas\n",
    "Ejercicio 2"
   ]
  },
  {
   "cell_type": "code",
   "execution_count": null,
   "metadata": {},
   "outputs": [],
   "source": [
    "# Almacenar Entradas\n",
    "solplaneta = input(\"Introduzca la distancia del sol para el primer planeta en KM\")\n",
    "solplaneta1 = input(\"Introduzca la distancia desde el sol para el el segundo planeta en KM\")\n",
    "\n",
    "# conversión a numeros enteros\n",
    "solplaneta = int(solplaneta)\n",
    "solplaneta1 = int(solplaneta1)\n",
    "\n",
    "# Calcular y determinar valor absoluto\n",
    "distanciakm = solplaneta1 - solplaneta\n",
    "print(\"Distancia: \" + str(distanciakm))\n",
    "\n",
    "#converesion km a Millas\n",
    "conversion =  distanciakm * 0.621\n",
    "print(abs(distanciakm))"
   ]
  },
  {
   "cell_type": "markdown",
   "metadata": {},
   "source": [
    "## Lista Para Almacenar Nombres De Planetas\n"
   ]
  },
  {
   "cell_type": "code",
   "execution_count": null,
   "metadata": {},
   "outputs": [],
   "source": [
    "planetas = ['Mercurio', 'Venus', 'Tierra', 'Marte', 'Jupiter', 'Saturno', 'Urano', 'Neptuno']\n",
    "print('Hay', len(planetas), 'planetas')\n",
    "planetas.append('Pluton')\n",
    "print(planetas[-1], 'el ultimo planeta')"
   ]
  },
  {
   "cell_type": "markdown",
   "metadata": {},
   "source": [
    "<H4>Trabajando con datos de una lista </H4> \n",
    "Ejercicio 2"
   ]
  },
  {
   "cell_type": "code",
   "execution_count": null,
   "metadata": {},
   "outputs": [],
   "source": [
    "planetaslistas = ['Mercurio', 'Venus', 'Tierra', 'Marte', 'Jupiter', 'Saturno', 'Urano', 'Neptuno']\n",
    "# Solicitar Nombre\n",
    "nombreplaneta = input('Por favor ingresa el nombre del planeta (empezando con mayuscula)')\n",
    "# Buscar Planeta\n",
    "planetas_inicio = planetaslistas.index(nombreplaneta)\n",
    "# Muestra Los Planetas Más Cercanos Al Sol\n",
    "print('Aquí están los planetas mas cercanos que ' + nombreplaneta)\n",
    "print(planetaslistas[0:planetas_inicio])\n",
    "# Muestra Los Planetas Más Lejanos Al Sol\n",
    "print('Aquí están los planetas más lejos que' + nombreplaneta)\n",
    "print(planetaslistas[planetas_inicio +1:])\n"
   ]
  },
  {
   "cell_type": "markdown",
   "metadata": {},
   "source": [
    "## Uso de ciclos while\n"
   ]
  },
  {
   "cell_type": "code",
   "execution_count": null,
   "metadata": {},
   "outputs": [],
   "source": [
    "nuevo_planeta = ''\n",
    "planeta1 = []\n",
    "\n",
    "while nuevo_planeta.lower() != 'done':\n",
    "    if nuevo_planeta:\n",
    "        planeta1.append(nuevo_planeta)\n",
    "    nuevo_planeta = input('Intro Para Agregar Planeta ')"
   ]
  },
  {
   "cell_type": "code",
   "execution_count": null,
   "metadata": {},
   "outputs": [],
   "source": [
    "for agregado in planeta1:\n",
    "    print(agregado)"
   ]
  },
  {
   "cell_type": "markdown",
   "metadata": {},
   "source": [
    "## Creacion De Diccionarios"
   ]
  },
  {
   "cell_type": "code",
   "execution_count": null,
   "metadata": {},
   "outputs": [],
   "source": [
    "planeta ={\n",
    "    'nombre': 'Marte',\n",
    "    'lunas': 2\n",
    "}\n",
    "print(f'{planeta[\"nombre\"]} Tiene {planeta[\"lunas\"]} Lunas')\n",
    "\n",
    "planeta['circunferencia (km)'] = {\n",
    "    'polar': 6752,\n",
    "    'equatorial': 6792\n",
    "}\n",
    "\n",
    "print(f'{planeta[\"nombre\"]} Tiene una circunferencia polar de {planeta[\"circunferencia (km)\"][\"polar\"]}')"
   ]
  },
  {
   "cell_type": "code",
   "execution_count": null,
   "metadata": {},
   "outputs": [],
   "source": [
    "# Planetas y Lunas\n",
    "planetaslunas = {\n",
    "    'merecurio': 0,\n",
    "    'venus': 0,\n",
    "    'tierra': 1,\n",
    "    'marte': 2,\n",
    "    'jupiter': 79,\n",
    "    'saturno': 82,\n",
    "    'urano': 27,\n",
    "    'neptuno': 14,\n",
    "    'pluton': 5,\n",
    "    'haumea': 2,\n",
    "    'makemake': 1,\n",
    "    'eris': 1\n",
    "}\n",
    "\n",
    "lunas = planetaslunas.values()\n",
    "planetas1 = len(planetaslunas.keys())\n",
    "\n",
    "total_lunas = 0\n",
    "for luna in lunas:\n",
    "    total_lunas = total_lunas + luna\n",
    "\n",
    "calculo = total_lunas / planetas1\n",
    "print(calculo)"
   ]
  },
  {
   "cell_type": "markdown",
   "metadata": {},
   "source": [
    "## Argumentos en funciones\n"
   ]
  },
  {
   "cell_type": "code",
   "execution_count": null,
   "metadata": {},
   "outputs": [],
   "source": [
    "def generar_reporte(tanqueprincipal, extank, hydrogen_tank):\n",
    "    total_average = (tanqueprincipal + extank + hydrogen_tank) / 3\n",
    "    return f\"\"\"Reporte De Tanques:\n",
    "    Total Media: {total_average}%\n",
    "    Tanque Principal: {tanqueprincipal}%\n",
    "    Tanque Externo: {extank}%\n",
    "    Tanque De Hydrogeno: {hydrogen_tank}% \n",
    "    \"\"\"\n",
    "\n",
    "print(generar_reporte(80, 70, 85))\n",
    "\n",
    "def average(values):\n",
    "    total = sum(values)\n",
    "    number_of_items = len(values)\n",
    "    return total / number_of_items\n",
    "\n",
    "average([80, 85, 81]) \n",
    "\n",
    "def generar_reporte(tanqueprincipal, extank, hydrogen_tank):\n",
    "    return f\"\"\"Reporte de tanques:\n",
    "    Total Media: {average([tanqueprincipal, extank, hydrogen_tank])}%\n",
    "    Tanque Principal: {tanqueprincipal}%\n",
    "    Tanque Externo: {extank}%\n",
    "    Tanque De Hydrogeno: {hydrogen_tank}% \n",
    "    \"\"\"\n",
    "print(generar_reporte(88, 76, 70))"
   ]
  },
  {
   "cell_type": "markdown",
   "metadata": {},
   "source": [
    "<h4> Ejercicio 2 </h4>"
   ]
  },
  {
   "cell_type": "code",
   "execution_count": 21,
   "metadata": {},
   "outputs": [
    {
     "name": "stdout",
     "output_type": "stream",
     "text": [
      "\n",
      "    Misión a Luna\n",
      "    Tiempo Total De Viaje: 65 minutos\n",
      "    Combustible Total Restante: 500000 gallons\n",
      "    \n"
     ]
    }
   ],
   "source": [
    "def Reportedemision(pre_launch_time, flight_time, destination, external_tank, main_tank):\n",
    "    return f\"\"\"\n",
    "    Misión a {destination}\n",
    "    Tiempo Total De Viaje: {pre_launch_time + flight_time} minutos\n",
    "    Combustible Total Restante: {external_tank + main_tank} galones\n",
    "    \"\"\"\n",
    "\n",
    "print(Reportedemision(14, 51, \"Luna\", 200000, 300000))\n",
    "\n"
   ]
  },
  {
   "cell_type": "code",
   "execution_count": 22,
   "metadata": {},
   "outputs": [
    {
     "name": "stdout",
     "output_type": "stream",
     "text": [
      "\n",
      "    Misión a Moon\n",
      "    Tiempo Total De Viaje: 76 minutos\n",
      "    Combustible Total Restante: 500000\n",
      "    \n"
     ]
    }
   ],
   "source": [
    "def reportedemision(destination, *minutes, **fuel_reservoirs):\n",
    "    return f\"\"\"\n",
    "    Misión a {destination}\n",
    "    Tiempo Total De Viaje: {sum(minutes)} minutos\n",
    "    Combustible Total Restante: {sum(fuel_reservoirs.values())}\n",
    "    \"\"\"\n",
    "\n",
    "print(reportedemision(\"Moon\", 10, 15, 51, main=300000, external=200000))\n",
    "\n"
   ]
  },
  {
   "cell_type": "code",
   "execution_count": 26,
   "metadata": {},
   "outputs": [
    {
     "name": "stdout",
     "output_type": "stream",
     "text": [
      "\n",
      "    Misión a La Luna\n",
      "    Tiempo Total De Viaje: 74 minutos\n",
      "    Combustible Total Restante: 500000\n",
      "    main tank --> 300000 Galones Restantes\n",
      "external tank --> 200000 Galones Restantes\n",
      "\n"
     ]
    }
   ],
   "source": [
    "def mreportedemision(destination, *minutes, **fuel_reservoirs):\n",
    "    main_report = f\"\"\"\n",
    "    Misión a {destination}\n",
    "    Tiempo Total De Viaje: {sum(minutes)} minutos\n",
    "    Combustible Total Restante: {sum(fuel_reservoirs.values())}\n",
    "    \"\"\"\n",
    "    for tank_name, gallons in fuel_reservoirs.items():\n",
    "        main_report += f\"{tank_name} tank --> {gallons} Galones Restantes\\n\"\n",
    "    return main_report\n",
    "\n",
    "print(mreportedemision(\"La Luna\", 8, 11, 55, main=300000, external=200000))"
   ]
  }
 ],
 "metadata": {
  "interpreter": {
   "hash": "86b1e5865c8e32e9500f7df1625571372d4d8dcbe521e1ad3fcbb3e0fc511594"
  },
  "kernelspec": {
   "display_name": "Python 3.10.2 64-bit",
   "language": "python",
   "name": "python3"
  },
  "language_info": {
   "codemirror_mode": {
    "name": "ipython",
    "version": 3
   },
   "file_extension": ".py",
   "mimetype": "text/x-python",
   "name": "python",
   "nbconvert_exporter": "python",
   "pygments_lexer": "ipython3",
   "version": "3.9.10"
  },
  "orig_nbformat": 4
 },
 "nbformat": 4,
 "nbformat_minor": 2
}
